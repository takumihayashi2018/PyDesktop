{
 "cells": [
  {
   "cell_type": "code",
   "execution_count": 18,
   "id": "1f8eeaca-f8b7-46b0-a5c7-1de98addfffa",
   "metadata": {},
   "outputs": [],
   "source": [
    "from MyModules.useful_functions import *\n",
    "md = MyMarkdown()\n",
    "import math"
   ]
  },
  {
   "cell_type": "code",
   "execution_count": 24,
   "id": "f9a26d33-cd70-43c6-8bac-a42dc1ce478d",
   "metadata": {},
   "outputs": [
    {
     "data": {
      "text/markdown": [
       "  \n",
       "  \n",
       "- total_cost = 30757  \n",
       "- cost_per_person = 4394  \n",
       "  \n",
       "- For Tsuchihashi-san, Koshizaki-san, Kojima-san (additional Onsen: 800)  \n",
       "  - cost_per_person_w_onsen = 5194  \n",
       "\n",
       "\n"
      ],
      "text/plain": [
       "<IPython.core.display.Markdown object>"
      ]
     },
     "metadata": {},
     "output_type": "display_data"
    }
   ],
   "source": [
    "n_person = 7\n",
    "rent = 13970\n",
    "gas = 2397\n",
    "highway = 2470 * 2\n",
    "ropeway = 650 * n_person\n",
    "nihon_temple = 700 * n_person\n",
    "\n",
    "ls_costs = [rent, gas, highway, ropeway, nihon_temple]\n",
    "total_cost = sum(ls_costs)\n",
    "cost_per_person = total_cost / n_person\n",
    "\n",
    "onsen = 800\n",
    "\n",
    "cost_per_person_w_onsen = total_cost / n_person + onsen\n",
    "\n",
    "md.text(f\"\"\"\n",
    "\n",
    "- total_cost = {total_cost}\n",
    "- cost_per_person = {math.ceil(cost_per_person)}\n",
    "\n",
    "- For Tsuchihashi-san, Koshizaki-san, Kojima-san (additional Onsen: {onsen})\n",
    "  - cost_per_person_w_onsen = {math.ceil(cost_per_person_w_onsen)}\n",
    "\"\"\").show()\n"
   ]
  },
  {
   "cell_type": "code",
   "execution_count": null,
   "id": "0f8eeaa8-bcdf-484f-9a0d-69d320d0fc65",
   "metadata": {},
   "outputs": [],
   "source": []
  }
 ],
 "metadata": {
  "kernelspec": {
   "display_name": "Python 3 (ipykernel)",
   "language": "python",
   "name": "python3"
  },
  "language_info": {
   "codemirror_mode": {
    "name": "ipython",
    "version": 3
   },
   "file_extension": ".py",
   "mimetype": "text/x-python",
   "name": "python",
   "nbconvert_exporter": "python",
   "pygments_lexer": "ipython3",
   "version": "3.11.3"
  }
 },
 "nbformat": 4,
 "nbformat_minor": 5
}
