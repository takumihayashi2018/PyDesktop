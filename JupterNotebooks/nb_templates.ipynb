{
 "cells": [
  {
   "cell_type": "code",
   "execution_count": null,
   "id": "4f4289a6-0eb2-4a9b-86b2-8f552e971efb",
   "metadata": {},
   "outputs": [],
   "source": [
    "# TEMPLATE: Introduction\n",
    "\n",
    "# ようこそ\n",
    "このノートブックは、Jupyter Notebookの基本的な使い方を紹介します。\n"
   ]
  },
  {
   "cell_type": "code",
   "execution_count": null,
   "id": "58757e1c-cdf4-42ce-aa22-b4656563f7ba",
   "metadata": {},
   "outputs": [],
   "source": [
    "# TEMPLATE: Introduction\n",
    "\n",
    "# 最初のコード例\n",
    "print(\"Hello, Jupyter!\")\n"
   ]
  },
  {
   "cell_type": "code",
   "execution_count": null,
   "id": "48e71b63-aa8f-4683-92ae-5b57df8d309a",
   "metadata": {},
   "outputs": [],
   "source": [
    "# TEMPLATE: Data Analysis\n",
    "\n",
    "# データ分析の基本\n",
    "以下のセルでは、データ分析の基本的な手順を紹介します。\n"
   ]
  },
  {
   "cell_type": "code",
   "execution_count": null,
   "id": "4c21ae5a-ae6d-4726-8db1-229fa59e5600",
   "metadata": {},
   "outputs": [],
   "source": [
    "# TEMPLATE: Data Analysis\n",
    "\n",
    "import pandas as pd\n",
    "\n",
    "# サンプルデータの読み込み\n",
    "data = pd.read_csv(\"sample_data.csv\")\n",
    "data.head()\n"
   ]
  },
  {
   "cell_type": "code",
   "execution_count": 1,
   "id": "4fc48508-38ca-4561-a15a-1b36f46a4016",
   "metadata": {},
   "outputs": [],
   "source": [
    "# TEMPLATE: MySearch\n",
    "\n",
    "from MyModules.useful_functions import *\n",
    "ls_extensions = [\"py\", \"ipynb\", \"md\", \"csv\", \"png\"]\n",
    "ms = MySearch(extensions = ls_extensions)\n",
    "\n",
    "query = '''\n",
    "select \n",
    "from \n",
    "where\n",
    "'''"
   ]
  },
  {
   "cell_type": "code",
   "execution_count": null,
   "id": "4ebe4506-261d-4ac6-b6b8-c19a83f8a413",
   "metadata": {},
   "outputs": [],
   "source": []
  }
 ],
 "metadata": {
  "kernelspec": {
   "display_name": "Python 3 (ipykernel)",
   "language": "python",
   "name": "python3"
  },
  "language_info": {
   "codemirror_mode": {
    "name": "ipython",
    "version": 3
   },
   "file_extension": ".py",
   "mimetype": "text/x-python",
   "name": "python",
   "nbconvert_exporter": "python",
   "pygments_lexer": "ipython3",
   "version": "3.11.3"
  }
 },
 "nbformat": 4,
 "nbformat_minor": 5
}
