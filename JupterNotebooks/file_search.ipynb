{
 "cells": [
  {
   "cell_type": "markdown",
   "id": "2874f5d0-ba00-4051-9768-498fd6aba5b4",
   "metadata": {},
   "source": [
    "### Quick File Search and access"
   ]
  },
  {
   "cell_type": "code",
   "execution_count": null,
   "id": "7ef6ea58-bbee-46c7-a17e-00cadb147441",
   "metadata": {},
   "outputs": [],
   "source": [
    "from MyModules.useful_functions import *\n",
    "import pandas as pd\n",
    "%run update_links.py\n",
    "ls_extensions = [\"py\", \"ipynb\", \"md\", \"csv\", \"png\"]\n",
    "ms = MySearch(extensions = ls_extensions)"
   ]
  },
  {
   "cell_type": "code",
   "execution_count": null,
   "id": "b37fc5c0-494b-4947-be14-c08eab142d02",
   "metadata": {},
   "outputs": [],
   "source": [
    "# Search files by a string\n",
    "ms.search_files(flg_regex=False)"
   ]
  },
  {
   "cell_type": "code",
   "execution_count": null,
   "id": "b182d74f-f00c-43a3-ac3e-37e321622df5",
   "metadata": {},
   "outputs": [],
   "source": [
    "ms.show_md()"
   ]
  },
  {
   "cell_type": "code",
   "execution_count": null,
   "id": "bd3ad5fe-4a8a-4e89-b477-08f4a0462dca",
   "metadata": {},
   "outputs": [],
   "source": []
  }
 ],
 "metadata": {
  "kernelspec": {
   "display_name": "Python 3 (ipykernel)",
   "language": "python",
   "name": "python3"
  },
  "language_info": {
   "codemirror_mode": {
    "name": "ipython",
    "version": 3
   },
   "file_extension": ".py",
   "mimetype": "text/x-python",
   "name": "python",
   "nbconvert_exporter": "python",
   "pygments_lexer": "ipython3",
   "version": "3.11.3"
  }
 },
 "nbformat": 4,
 "nbformat_minor": 5
}
