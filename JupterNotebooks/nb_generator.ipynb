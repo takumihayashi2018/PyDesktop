{
 "cells": [
  {
   "cell_type": "code",
   "execution_count": 6,
   "id": "ec92be94-11c9-4657-b801-f352b50425b7",
   "metadata": {},
   "outputs": [],
   "source": [
    "from MyModules.useful_functions import *"
   ]
  },
  {
   "cell_type": "markdown",
   "id": "45fb01fd-fb93-48be-a029-98412ed4308c",
   "metadata": {},
   "source": [
    "https://chat.openai.com/c/592da54e-c4a6-4328-a00b-5eb9fb8dad65"
   ]
  },
  {
   "cell_type": "code",
   "execution_count": 8,
   "id": "3ac1e652-33fd-4192-ac8d-a15a8514ac1e",
   "metadata": {
    "scrolled": true
   },
   "outputs": [
    {
     "name": "stdout",
     "output_type": "stream",
     "text": [
      "Available templates:\n",
      "1. Introduction\n",
      "\n",
      "# ようこそ\n",
      "このノートブックは、Jupyter Notebookの基本的な使い方を紹介します。\n"
     ]
    },
    {
     "data": {
      "text/markdown": [
       "---"
      ],
      "text/plain": [
       "<IPython.core.display.Markdown object>"
      ]
     },
     "metadata": {},
     "output_type": "display_data"
    },
    {
     "name": "stdout",
     "output_type": "stream",
     "text": [
      "2. Data Analysis\n",
      "\n",
      "# データ分析の基本\n",
      "以下のセルでは、データ分析の基本的な手順を紹介します。\n"
     ]
    },
    {
     "data": {
      "text/markdown": [
       "---"
      ],
      "text/plain": [
       "<IPython.core.display.Markdown object>"
      ]
     },
     "metadata": {},
     "output_type": "display_data"
    },
    {
     "name": "stdout",
     "output_type": "stream",
     "text": [
      "3. Data Analysis\n",
      "\n",
      "import pandas as pd\n",
      "\n",
      "# サンプルデータの読み込み\n",
      "data = pd.read_csv(\"sample_data.csv\")\n",
      "data.head()\n"
     ]
    },
    {
     "data": {
      "text/markdown": [
       "---"
      ],
      "text/plain": [
       "<IPython.core.display.Markdown object>"
      ]
     },
     "metadata": {},
     "output_type": "display_data"
    },
    {
     "name": "stdout",
     "output_type": "stream",
     "text": [
      "4. Introduction\n",
      "\n",
      "# 最初のコード例\n",
      "print(\"Hello, Jupyter!\")\n"
     ]
    },
    {
     "data": {
      "text/markdown": [
       "---"
      ],
      "text/plain": [
       "<IPython.core.display.Markdown object>"
      ]
     },
     "metadata": {},
     "output_type": "display_data"
    },
    {
     "name": "stdout",
     "output_type": "stream",
     "text": [
      "5. MySearch\n",
      "\n",
      "from MyModules.useful_functions import *\n",
      "ls_extensions = [\"py\", \"ipynb\", \"md\", \"csv\", \"png\"]\n",
      "ms = MySearch(extensions = ls_extensions)\n",
      "\n",
      "query = '''\n",
      "select \n",
      "from \n",
      "where\n",
      "'''\n"
     ]
    },
    {
     "data": {
      "text/markdown": [
       "---"
      ],
      "text/plain": [
       "<IPython.core.display.Markdown object>"
      ]
     },
     "metadata": {},
     "output_type": "display_data"
    },
    {
     "name": "stdin",
     "output_type": "stream",
     "text": [
      "Enter the number of the template you want to use:  5\n",
      "Enter the filename to save the new notebook:  test_power_search.py\n"
     ]
    },
    {
     "name": "stdout",
     "output_type": "stream",
     "text": [
      "New Note File Link: \n"
     ]
    },
    {
     "data": {
      "text/html": [
       "<a href='test_power_search.ipynb' target='_blank'>test_power_search.ipynb</a><br>"
      ],
      "text/plain": [
       "/Users/takumihayashi/Documents/01_Programming/01_python/test_power_search.ipynb"
      ]
     },
     "metadata": {},
     "output_type": "display_data"
    }
   ],
   "source": [
    "# 使用例\n",
    "my_templates = \"96_nb_templates/nb_templates.ipynb\"\n",
    "nb = MyNotebook(my_templates)\n",
    "nb.new()  # 2番目のテンプレートを選択して新しいノートブックを作成"
   ]
  },
  {
   "cell_type": "code",
   "execution_count": 7,
   "id": "ccf24a37-e3e7-4e5c-afcb-a0c721e07810",
   "metadata": {},
   "outputs": [
    {
     "ename": "FileNotFoundError",
     "evalue": "[Errno 2] No such file or directory: 'nb_templates.ipynb'",
     "output_type": "error",
     "traceback": [
      "\u001b[0;31m---------------------------------------------------------------------------\u001b[0m",
      "\u001b[0;31mFileNotFoundError\u001b[0m                         Traceback (most recent call last)",
      "Cell \u001b[0;32mIn[7], line 1\u001b[0m\n\u001b[0;32m----> 1\u001b[0m nb\u001b[38;5;241m.\u001b[39mnew(\u001b[38;5;241m1\u001b[39m,\u001b[38;5;124m\"\u001b[39m\u001b[38;5;124mtmp/my_nb.ipynb\u001b[39m\u001b[38;5;124m\"\u001b[39m)\n",
      "File \u001b[0;32m~/anaconda3/lib/python3.11/site-packages/MyModules/my_notebook.py:35\u001b[0m, in \u001b[0;36mnew\u001b[0;34m(self, idx, output_filename)\u001b[0m\n",
      "File \u001b[0;32m~/anaconda3/lib/python3.11/site-packages/MyModules/my_notebook.py:21\u001b[0m, in \u001b[0;36mget_available_templates\u001b[0;34m(self)\u001b[0m\n",
      "\u001b[0;31mFileNotFoundError\u001b[0m: [Errno 2] No such file or directory: 'nb_templates.ipynb'"
     ]
    }
   ],
   "source": [
    "nb.new(1,\"tmp/my_nb.ipynb\")"
   ]
  },
  {
   "cell_type": "code",
   "execution_count": null,
   "id": "200b0acd-013d-4437-b1ad-089784b440f4",
   "metadata": {},
   "outputs": [],
   "source": []
  }
 ],
 "metadata": {
  "kernelspec": {
   "display_name": "Python 3 (ipykernel)",
   "language": "python",
   "name": "python3"
  },
  "language_info": {
   "codemirror_mode": {
    "name": "ipython",
    "version": 3
   },
   "file_extension": ".py",
   "mimetype": "text/x-python",
   "name": "python",
   "nbconvert_exporter": "python",
   "pygments_lexer": "ipython3",
   "version": "3.11.3"
  }
 },
 "nbformat": 4,
 "nbformat_minor": 5
}
